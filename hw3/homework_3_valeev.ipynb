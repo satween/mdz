{
 "cells": [
  {
   "cell_type": "code",
   "execution_count": 1,
   "id": "G66A3t9CDg5X",
   "metadata": {
    "colab": {
     "base_uri": "https://localhost:8080/"
    },
    "id": "G66A3t9CDg5X",
    "outputId": "f4074ef8-25b9-4571-fee2-d012a2b906fa"
   },
   "outputs": [
    {
     "name": "stdout",
     "output_type": "stream",
     "text": [
      "Collecting requests\n",
      "  Downloading requests-2.27.1-py2.py3-none-any.whl (63 kB)\n",
      "\u001b[2K     \u001b[90m━━━━━━━━━━━━━━━━━━━━━━━━━━━━━━━━━━━━━━━\u001b[0m \u001b[32m63.1/63.1 KB\u001b[0m \u001b[31m885.1 kB/s\u001b[0m eta \u001b[36m0:00:00\u001b[0m \u001b[36m0:00:01\u001b[0m\n",
      "\u001b[?25hCollecting certifi>=2017.4.17\n",
      "  Downloading certifi-2021.10.8-py2.py3-none-any.whl (149 kB)\n",
      "\u001b[2K     \u001b[90m━━━━━━━━━━━━━━━━━━━━━━━━━━━━━━━━━━━━━\u001b[0m \u001b[32m149.2/149.2 KB\u001b[0m \u001b[31m686.5 kB/s\u001b[0m eta \u001b[36m0:00:00\u001b[0ma \u001b[36m0:00:01\u001b[0m\n",
      "\u001b[?25hCollecting charset-normalizer~=2.0.0\n",
      "  Downloading charset_normalizer-2.0.11-py3-none-any.whl (39 kB)\n",
      "Collecting urllib3<1.27,>=1.21.1\n",
      "  Downloading urllib3-1.26.8-py2.py3-none-any.whl (138 kB)\n",
      "\u001b[2K     \u001b[90m━━━━━━━━━━━━━━━━━━━━━━━━━━━━━━━━━━━━━━━\u001b[0m \u001b[32m138.7/138.7 KB\u001b[0m \u001b[31m2.4 MB/s\u001b[0m eta \u001b[36m0:00:00\u001b[0ma \u001b[36m0:00:01\u001b[0m\n",
      "\u001b[?25hCollecting idna<4,>=2.5\n",
      "  Downloading idna-3.3-py3-none-any.whl (61 kB)\n",
      "\u001b[2K     \u001b[90m━━━━━━━━━━━━━━━━━━━━━━━━━━━━━━━━━━━━━━━━\u001b[0m \u001b[32m61.2/61.2 KB\u001b[0m \u001b[31m2.9 MB/s\u001b[0m eta \u001b[36m0:00:00\u001b[0m\n",
      "\u001b[?25hInstalling collected packages: certifi, urllib3, idna, charset-normalizer, requests\n",
      "Successfully installed certifi-2021.10.8 charset-normalizer-2.0.11 idna-3.3 requests-2.27.1 urllib3-1.26.8\n",
      "\u001b[33mWARNING: Running pip as the 'root' user can result in broken permissions and conflicting behaviour with the system package manager. It is recommended to use a virtual environment instead: https://pip.pypa.io/warnings/venv\u001b[0m\u001b[33m\n",
      "\u001b[0mCollecting pandas\n",
      "  Downloading pandas-1.4.0-cp38-cp38-manylinux_2_17_x86_64.manylinux2014_x86_64.whl (11.7 MB)\n",
      "\u001b[2K     \u001b[90m━━━━━━━━━━━━━━━━━━━━━━━━━━━━━━━━━━━━━━━━\u001b[0m \u001b[32m11.7/11.7 MB\u001b[0m \u001b[31m20.8 MB/s\u001b[0m eta \u001b[36m0:00:00\u001b[0m00:01\u001b[0m0:01\u001b[0m\n",
      "\u001b[?25hCollecting pytz>=2020.1\n",
      "  Downloading pytz-2021.3-py2.py3-none-any.whl (503 kB)\n",
      "\u001b[2K     \u001b[90m━━━━━━━━━━━━━━━━━━━━━━━━━━━━━━━━━━━━━━\u001b[0m \u001b[32m503.5/503.5 KB\u001b[0m \u001b[31m35.9 MB/s\u001b[0m eta \u001b[36m0:00:00\u001b[0m\n",
      "\u001b[?25hRequirement already satisfied: python-dateutil>=2.8.1 in /usr/local/lib/python3.8/dist-packages (from pandas) (2.8.2)\n",
      "Collecting numpy>=1.18.5\n",
      "  Downloading numpy-1.22.1-cp38-cp38-manylinux_2_17_x86_64.manylinux2014_x86_64.whl (16.8 MB)\n",
      "\u001b[2K     \u001b[90m━━━━━━━━━━━━━━━━━━━━━━━━━━━━━━━━━━━━━━━━\u001b[0m \u001b[32m16.8/16.8 MB\u001b[0m \u001b[31m34.4 MB/s\u001b[0m eta \u001b[36m0:00:00\u001b[0m00:01\u001b[0m00:01\u001b[0m\n",
      "\u001b[?25hRequirement already satisfied: six>=1.5 in /usr/local/lib/python3.8/dist-packages (from python-dateutil>=2.8.1->pandas) (1.16.0)\n",
      "Installing collected packages: pytz, numpy, pandas\n",
      "Successfully installed numpy-1.22.1 pandas-1.4.0 pytz-2021.3\n",
      "\u001b[33mWARNING: Running pip as the 'root' user can result in broken permissions and conflicting behaviour with the system package manager. It is recommended to use a virtual environment instead: https://pip.pypa.io/warnings/venv\u001b[0m\u001b[33m\n",
      "\u001b[0mCollecting beautifulsoup4\n",
      "  Downloading beautifulsoup4-4.10.0-py3-none-any.whl (97 kB)\n",
      "\u001b[2K     \u001b[90m━━━━━━━━━━━━━━━━━━━━━━━━━━━━━━━━━━━━━━━━\u001b[0m \u001b[32m97.4/97.4 KB\u001b[0m \u001b[31m1.4 MB/s\u001b[0m eta \u001b[36m0:00:00\u001b[0mta \u001b[36m0:00:01\u001b[0m\n",
      "\u001b[?25hCollecting soupsieve>1.2\n",
      "  Downloading soupsieve-2.3.1-py3-none-any.whl (37 kB)\n",
      "Installing collected packages: soupsieve, beautifulsoup4\n",
      "Successfully installed beautifulsoup4-4.10.0 soupsieve-2.3.1\n",
      "\u001b[33mWARNING: Running pip as the 'root' user can result in broken permissions and conflicting behaviour with the system package manager. It is recommended to use a virtual environment instead: https://pip.pypa.io/warnings/venv\u001b[0m\u001b[33m\n",
      "\u001b[0mCollecting mysql-connector-python\n",
      "  Downloading mysql_connector_python-8.0.28-cp38-cp38-manylinux1_x86_64.whl (37.6 MB)\n",
      "\u001b[2K     \u001b[90m━━━━━━━━━━━━━━━━━━━━━━━━━━━━━━━━━━━━━━━━\u001b[0m \u001b[32m37.6/37.6 MB\u001b[0m \u001b[31m17.6 MB/s\u001b[0m eta \u001b[36m0:00:00\u001b[0m00:01\u001b[0m00:01\u001b[0m\n",
      "\u001b[?25hCollecting protobuf>=3.0.0\n",
      "  Downloading protobuf-3.19.4-cp38-cp38-manylinux_2_17_x86_64.manylinux2014_x86_64.whl (1.1 MB)\n",
      "\u001b[2K     \u001b[90m━━━━━━━━━━━━━━━━━━━━━━━━━━━━━━━━━━━━━━━━\u001b[0m \u001b[32m1.1/1.1 MB\u001b[0m \u001b[31m40.1 MB/s\u001b[0m eta \u001b[36m0:00:00\u001b[0m\n",
      "\u001b[?25hInstalling collected packages: protobuf, mysql-connector-python\n",
      "Successfully installed mysql-connector-python-8.0.28 protobuf-3.19.4\n",
      "\u001b[33mWARNING: Running pip as the 'root' user can result in broken permissions and conflicting behaviour with the system package manager. It is recommended to use a virtual environment instead: https://pip.pypa.io/warnings/venv\u001b[0m\u001b[33m\n",
      "\u001b[0mCollecting SQLAlchemy\n",
      "  Downloading SQLAlchemy-1.4.31-cp38-cp38-manylinux_2_5_x86_64.manylinux1_x86_64.manylinux_2_17_x86_64.manylinux2014_x86_64.whl (1.6 MB)\n",
      "\u001b[2K     \u001b[90m━━━━━━━━━━━━━━━━━━━━━━━━━━━━━━━━━━━━━━━━\u001b[0m \u001b[32m1.6/1.6 MB\u001b[0m \u001b[31m5.9 MB/s\u001b[0m eta \u001b[36m0:00:00\u001b[0ma \u001b[36m0:00:01\u001b[0m\n",
      "\u001b[?25hCollecting greenlet!=0.4.17\n",
      "  Downloading greenlet-1.1.2-cp38-cp38-manylinux_2_17_x86_64.manylinux2014_x86_64.whl (156 kB)\n",
      "\u001b[2K     \u001b[90m━━━━━━━━━━━━━━━━━━━━━━━━━━━━━━━━━━━━━━\u001b[0m \u001b[32m156.6/156.6 KB\u001b[0m \u001b[31m25.1 MB/s\u001b[0m eta \u001b[36m0:00:00\u001b[0m\n",
      "\u001b[?25hInstalling collected packages: greenlet, SQLAlchemy\n",
      "Successfully installed SQLAlchemy-1.4.31 greenlet-1.1.2\n",
      "\u001b[33mWARNING: Running pip as the 'root' user can result in broken permissions and conflicting behaviour with the system package manager. It is recommended to use a virtual environment instead: https://pip.pypa.io/warnings/venv\u001b[0m\u001b[33m\n",
      "\u001b[0m"
     ]
    }
   ],
   "source": [
    "!pip install requests\n",
    "!pip install pandas\n",
    "!pip install beautifulsoup4\n",
    "!pip install mysql-connector-python\n",
    "!pip install SQLAlchemy"
   ]
  },
  {
   "cell_type": "code",
   "execution_count": 2,
   "id": "shaped-gather",
   "metadata": {
    "ExecuteTime": {
     "end_time": "2021-12-27T18:39:25.298314Z",
     "start_time": "2021-12-27T18:39:25.135233Z"
    },
    "id": "shaped-gather"
   },
   "outputs": [],
   "source": [
    "import requests\n",
    "import pandas as pd\n",
    "from bs4 import BeautifulSoup"
   ]
  },
  {
   "cell_type": "code",
   "execution_count": 3,
   "id": "severe-heavy",
   "metadata": {
    "ExecuteTime": {
     "end_time": "2021-12-27T18:39:25.779583Z",
     "start_time": "2021-12-27T18:39:25.299720Z"
    },
    "colab": {
     "base_uri": "https://localhost:8080/"
    },
    "id": "severe-heavy",
    "outputId": "f50c2701-e2d5-47da-bbaf-bb90d1c660dd"
   },
   "outputs": [
    {
     "data": {
      "text/plain": [
       "<Response [200]>"
      ]
     },
     "execution_count": 3,
     "metadata": {},
     "output_type": "execute_result"
    }
   ],
   "source": [
    "resp = requests.get('https://meduza.io/')\n",
    "resp"
   ]
  },
  {
   "cell_type": "code",
   "execution_count": 4,
   "id": "occasional-client",
   "metadata": {
    "ExecuteTime": {
     "end_time": "2021-12-27T18:39:25.830755Z",
     "start_time": "2021-12-27T18:39:25.781336Z"
    },
    "id": "occasional-client"
   },
   "outputs": [],
   "source": [
    "soup = BeautifulSoup(resp.text, 'html.parser')"
   ]
  },
  {
   "cell_type": "code",
   "execution_count": 5,
   "id": "featured-pollution",
   "metadata": {
    "ExecuteTime": {
     "end_time": "2021-12-27T18:39:25.861761Z",
     "start_time": "2021-12-27T18:39:25.831835Z"
    },
    "id": "featured-pollution"
   },
   "outputs": [],
   "source": [
    "def first_or_none(elements):\n",
    "    if len(elements):\n",
    "        return elements[0].text\n",
    "    else:\n",
    "        return None\n",
    "\n",
    "\n",
    "data = []\n",
    "containers = soup.find_all(\"div\", {\"class\": \"Feed-container\"})\n",
    "for container in containers:\n",
    "    children = container.findChildren('div', recursive=False)\n",
    "    for child in children:\n",
    "        blocks = child.find_all(\"h2\", {\"class\":\"BlockTitle-root\"})\n",
    "        for block in blocks:\n",
    "            title = first_or_none(block.find_all(\"span\", {\"class\":\"BlockTitle-first\"}))\n",
    "            subtitle = first_or_none(block.find_all(\"span\", {\"class\":\"BlockTitle-second\"}))\n",
    "            if title: \n",
    "                row = {\n",
    "                    'title': title,\n",
    "                    'subtitle': subtitle\n",
    "                }\n",
    "                data.append(row)        "
   ]
  },
  {
   "cell_type": "code",
   "execution_count": 6,
   "id": "latin-annual",
   "metadata": {
    "ExecuteTime": {
     "end_time": "2021-12-27T18:39:25.897622Z",
     "start_time": "2021-12-27T18:39:25.882642Z"
    },
    "id": "latin-annual"
   },
   "outputs": [],
   "source": [
    "df = pd.DataFrame.from_dict(data)"
   ]
  },
  {
   "cell_type": "markdown",
   "id": "2250625e",
   "metadata": {},
   "source": [
    "Saving data to database"
   ]
  },
  {
   "cell_type": "code",
   "execution_count": 7,
   "id": "730e0ebd",
   "metadata": {},
   "outputs": [
    {
     "data": {
      "text/plain": [
       "36"
      ]
     },
     "execution_count": 7,
     "metadata": {},
     "output_type": "execute_result"
    }
   ],
   "source": [
    "from sqlalchemy import create_engine, event\n",
    "DATABSE_URI='mysql+mysqlconnector://{user}:{password}@{server}/{database}'.format(user='user', password='password', server='db:3306', database='test_db')\n",
    "engine = create_engine(\n",
    "                DATABSE_URI\n",
    "            )\n",
    "df.to_sql(con=engine, name='data', if_exists='replace')"
   ]
  },
  {
   "cell_type": "markdown",
   "id": "623a08c0",
   "metadata": {},
   "source": [
    "Selecting data from database:"
   ]
  },
  {
   "cell_type": "code",
   "execution_count": 8,
   "id": "preceding-gender",
   "metadata": {
    "id": "preceding-gender"
   },
   "outputs": [
    {
     "name": "stdout",
     "output_type": "stream",
     "text": [
      "(0, 'Полиция Украины задержала подозреваемых в\\xa0подготовке беспорядков. Их\\xa0собирались устроить в\\xa0Киеве и\\xa0регионах, расположенных в\\xa0часе езды от\\xa0России', None)\n",
      "(1, 'В России новый суточный рекорд заражений ковидом\\xa0— 124\\u202f070 случаев. В\\xa0Москве вводят дополнительные койки в\\xa0детских стационарах', None)\n",
      "(2, 'Danone предупредила о\\xa0росте цен на\\xa0свою продукцию в\\xa0России на\\xa010%', None)\n",
      "(3, '«Мемориал» обжаловал решение Верховного суда РФ\\xa0о\\xa0ликвидации', None)\n",
      "(4, 'В Подмосковье военнослужащий «непроизвольным выстрелом» убил сослуживца', None)\n",
      "(5, '«Коммерсант»: МВД осталось недовольно работой серверов на\\xa0отечественных процессорах «Эльбрус»', None)\n",
      "(6, 'Spotify поменял правила модерации из-за бойкота Нила Янга и\\xa0Джони Митчелл', 'Сервис запретил отрицать коронавирус и\\xa0призывать к\\xa0участию в\\xa0ковид-вечеринках')\n",
      "(7, 'Вышел трейлер долгожданного сериала по\\xa0Halo', 'В нем мастер Чиф дерется с\\xa0инопланетянами\\xa0(не\\xa0может быть!)')\n",
      "(8, 'Бывшего волонтера штаба Навального обвинили в\\xa0призывах к\\xa0терроризму. Из-за комментариев в\\xa0чате телеграм-канала Znak.com ему грозит до\\xa0десяти лет тюрьмы', None)\n",
      "(9, 'В Москве начали проверку законности возведения 600 апартаментов', None)\n",
      "(10, 'Умер сценарист и\\xa0режиссер Виктор Мережко', None)\n",
      "(11, 'Институт гражданства устарел', 'Максим Трудолюбов показывает это на\\xa0примере действий российских властей (и\\xa0не\\xa0только их)\\xa0— и\\xa0цитирует Некрасова и\\xa0Евтушенко')\n",
      "(12, 'Такой парень', 'Умер Леонид Куравлев. Антон Долин вспоминает актера, ставшего культурным достоянием страны')\n",
      "(13, 'КНДР запустила баллистическую ракету на\\xa0рекордное за\\xa0пять лет расстояние. Она превысила скорость звука в\\xa016 раз', None)\n",
      "(14, 'Сколько на\\xa0самом деле бедных в\\xa0России? Этой статистикой манипулируют? Может\\xa0ли бедность привести к\\xa0политической апатии или, наоборот, к\\xa0социальному взрыву?', 'Интервью экономиста Евгения Гонтмахера')\n",
      "(15, 'Как понять, что служба поддержки трудится не\\xa0зря? Максимально короткий список требований', None)\n",
      "(16, 'Даниил Медведев уступил Рафаэлю Надалю в\\xa0финале Australian Open', None)\n",
      "(17, '«Он\\xa0десятилетиями высасывал жизнь из\\xa0молодых девушек»', 'Что мы\\xa0узнали из\\xa0первых эпизодов «Секретов Playboy»\\xa0— документального сериала о\\xa0«темной стороне» империи Хью Хефнера')\n",
      "(18, 'Конфликт между противниками порнографии и\\xa0порномагнатами обостряется. В\\xa0поджоге особняка владельца Pornhub подозревают религиозных активистов и\\xa0мафию', None)\n",
      "(19, 'Зачем бизнесу Big Data? Максимально коротко', None)\n",
      "(20, 'Исследование «Медузы» доказало: российская вакцина «ЭпиВакКорона» бесполезна при ковиде. Рассказывает научный редактор Александр Ершов', None)\n",
      "(21, 'Влади против пыток, «Диктофон» в\\xa0Крыму и\\xa0The Beatles на\\xa0крыше', '«Медуза» выбрала 10 лучших песен и\\xa0клипов недели')\n",
      "(22, 'В Петербурге судья, прокурор и\\xa0конвой не\\xa0смогли попасть в\\xa0здание суда. Потому что выпал снег', None)\n",
      "(23, 'Самолет «Байкал», преемник «кукурузника» Ан-2, совершил первый полет', None)\n",
      "(24, 'МИД Великобритании допустил любые санкции против России в\\xa0случае вторжения в\\xa0Украину. В\\xa0том числе арест недвижимости российских олигархов', None)\n",
      "(25, 'В Белом доме впервые с\\xa02009 года поселилась «первая кошка США». Знакомьтесь\\xa0— грациозная Уиллоу, которая раньше жила на\\xa0ферме, а\\xa0потом решила все изменить', None)\n",
      "(26, '«Появилось ощущение, что я\\xa0прокляла себя этой татуировкой»', 'Рассказываем о\\xa0тех, кто сделал тату и\\xa0пожалел об\\xa0этом. И\\xa0собираем ваши истории')\n",
      "(27, 'В Нижнем Новгороде на\\xa0двери дома 84-летней матери главы «Комитета против пыток» Игоря Каляпина повесили плакат, что ее\\xa0сын «защищает террористов»', None)\n",
      "(28, '50 лет назад в\\xa0Северной Ирландии случилось «Кровавое воскресенье»', 'Британские военные расстреляли участников демонстрации, 14 человек погибли. Вот как это было')\n",
      "(29, 'В России десятый день подряд зарегистрировали максимальный прирост заболевших COVID-19\\xa0— 121\\u202f228 человек за\\xa0сутки', None)\n",
      "(30, 'The Washington Post: секретные материалы украинской разведки вывезли из\\xa0Киева', None)\n",
      "(31, 'Канцелярия президента Чехии случайно уничтожила секретный документ о\\xa0взрывах в\\xa0Врбетице, в\\xa0которых обвиняют ГРУ России', None)\n",
      "(32, 'В США из\\xa0тюрьмы вышел мужчина, отсидевший 19 лет за\\xa0убийство, которого не\\xa0совершал. В\\xa0преступлении признался его брат-близнец', None)\n",
      "(33, 'Тропический шторм «Ана» вызвал разрушения на\\xa0восточном побережье Африки. Десятки людей погибли, сотни тысяч были вынуждены покинуть свои дома', 'Фотографии из\\xa0Малави, Мозамбика и\\xa0Мадагаскара')\n",
      "(34, 'Российские ученые успешно вживили чип в\\xa0зрительную кору мозга обезьяны. Эта технология может помочь незрячим людям различать предметы', None)\n",
      "(35, 'Какие выставки, ярмарки и\\xa0фестивали, посвященные дизайну, пройдут в\\xa02022-м', 'Полный календарь на\\xa0год')\n"
     ]
    }
   ],
   "source": [
    "conn = engine.connect()\n",
    "with conn:\n",
    "    result = conn.execute(\"SELECT * FROM data;\")\n",
    "    for x in result:\n",
    "        print(x)"
   ]
  },
  {
   "cell_type": "code",
   "execution_count": null,
   "id": "9bb2d487",
   "metadata": {},
   "outputs": [],
   "source": []
  }
 ],
 "metadata": {
  "colab": {
   "name": "homework_1_valeev.ipynb",
   "provenance": []
  },
  "kernelspec": {
   "display_name": "Python 3 (ipykernel)",
   "language": "python",
   "name": "python3"
  },
  "language_info": {
   "codemirror_mode": {
    "name": "ipython",
    "version": 3
   },
   "file_extension": ".py",
   "mimetype": "text/x-python",
   "name": "python",
   "nbconvert_exporter": "python",
   "pygments_lexer": "ipython3",
   "version": "3.8.10"
  },
  "toc": {
   "base_numbering": 1,
   "nav_menu": {},
   "number_sections": false,
   "sideBar": true,
   "skip_h1_title": false,
   "title_cell": "Table of Contents",
   "title_sidebar": "Contents",
   "toc_cell": false,
   "toc_position": {},
   "toc_section_display": true,
   "toc_window_display": false
  }
 },
 "nbformat": 4,
 "nbformat_minor": 5
}
