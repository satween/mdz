{
 "cells": [
  {
   "cell_type": "code",
   "source": [
    "!pip install requests\n",
    "!pip install pandas\n",
    "!pip install beautifulsoup4"
   ],
   "metadata": {
    "id": "G66A3t9CDg5X",
    "outputId": "f4074ef8-25b9-4571-fee2-d012a2b906fa",
    "colab": {
     "base_uri": "https://localhost:8080/"
    }
   },
   "id": "G66A3t9CDg5X",
   "execution_count": 2,
   "outputs": [
    {
     "output_type": "stream",
     "name": "stdout",
     "text": [
      "Requirement already satisfied: requests in /usr/local/lib/python3.7/dist-packages (2.23.0)\n",
      "Requirement already satisfied: urllib3!=1.25.0,!=1.25.1,<1.26,>=1.21.1 in /usr/local/lib/python3.7/dist-packages (from requests) (1.24.3)\n",
      "Requirement already satisfied: certifi>=2017.4.17 in /usr/local/lib/python3.7/dist-packages (from requests) (2021.10.8)\n",
      "Requirement already satisfied: chardet<4,>=3.0.2 in /usr/local/lib/python3.7/dist-packages (from requests) (3.0.4)\n",
      "Requirement already satisfied: idna<3,>=2.5 in /usr/local/lib/python3.7/dist-packages (from requests) (2.10)\n"
     ]
    }
   ]
  },
  {
   "cell_type": "code",
   "execution_count": 3,
   "id": "shaped-gather",
   "metadata": {
    "ExecuteTime": {
     "end_time": "2021-12-27T18:39:25.298314Z",
     "start_time": "2021-12-27T18:39:25.135233Z"
    },
    "id": "shaped-gather"
   },
   "outputs": [],
   "source": [
    "import requests\n",
    "import pandas as pd\n",
    "from bs4 import BeautifulSoup"
   ]
  },
  {
   "cell_type": "code",
   "execution_count": 4,
   "id": "severe-heavy",
   "metadata": {
    "ExecuteTime": {
     "end_time": "2021-12-27T18:39:25.779583Z",
     "start_time": "2021-12-27T18:39:25.299720Z"
    },
    "id": "severe-heavy",
    "outputId": "f50c2701-e2d5-47da-bbaf-bb90d1c660dd",
    "colab": {
     "base_uri": "https://localhost:8080/"
    }
   },
   "outputs": [
    {
     "output_type": "execute_result",
     "data": {
      "text/plain": [
       "<Response [200]>"
      ]
     },
     "metadata": {},
     "execution_count": 4
    }
   ],
   "source": [
    "resp = requests.get('https://meduza.io/')\n",
    "resp"
   ]
  },
  {
   "cell_type": "code",
   "execution_count": 5,
   "id": "occasional-client",
   "metadata": {
    "ExecuteTime": {
     "end_time": "2021-12-27T18:39:25.830755Z",
     "start_time": "2021-12-27T18:39:25.781336Z"
    },
    "id": "occasional-client"
   },
   "outputs": [],
   "source": [
    "soup = BeautifulSoup(resp.text, 'html.parser')\n",
    "#print(soup.prettify())"
   ]
  },
  {
   "cell_type": "code",
   "execution_count": 6,
   "id": "featured-pollution",
   "metadata": {
    "ExecuteTime": {
     "end_time": "2021-12-27T18:39:25.861761Z",
     "start_time": "2021-12-27T18:39:25.831835Z"
    },
    "id": "featured-pollution"
   },
   "outputs": [],
   "source": [
    "def first_or_none(elements):\n",
    "    if len(elements):\n",
    "        return elements[0].text\n",
    "    else:\n",
    "        return None\n",
    "\n",
    "\n",
    "data = []\n",
    "containers = soup.find_all(\"div\", {\"class\": \"Feed-container\"})\n",
    "for container in containers:\n",
    "    children = container.findChildren('div', recursive=False)\n",
    "    for child in children:\n",
    "        blocks = child.find_all(\"h2\", {\"class\":\"BlockTitle-root\"})\n",
    "        for block in blocks:\n",
    "            title = first_or_none(block.find_all(\"span\", {\"class\":\"BlockTitle-first\"}))\n",
    "            subtitle = first_or_none(block.find_all(\"span\", {\"class\":\"BlockTitle-second\"}))\n",
    "            if title: \n",
    "                row = {\n",
    "                    'title': title,\n",
    "                    'subtitle': subtitle\n",
    "                }\n",
    "                data.append(row)        "
   ]
  },
  {
   "cell_type": "code",
   "execution_count": 7,
   "id": "rental-passage",
   "metadata": {
    "ExecuteTime": {
     "end_time": "2021-12-27T18:39:25.881054Z",
     "start_time": "2021-12-27T18:39:25.862690Z"
    },
    "id": "rental-passage"
   },
   "outputs": [],
   "source": [
    "JSON_FILE = 'data.json'"
   ]
  },
  {
   "cell_type": "code",
   "execution_count": 8,
   "id": "latin-annual",
   "metadata": {
    "ExecuteTime": {
     "end_time": "2021-12-27T18:39:25.897622Z",
     "start_time": "2021-12-27T18:39:25.882642Z"
    },
    "id": "latin-annual"
   },
   "outputs": [],
   "source": [
    "df = pd.DataFrame.from_dict(data)\n",
    "with open(JSON_FILE, 'w', encoding='utf-8') as file:\n",
    "    df.to_json(file, force_ascii=False)"
   ]
  },
  {
   "cell_type": "code",
   "execution_count": 9,
   "id": "impossible-maple",
   "metadata": {
    "ExecuteTime": {
     "end_time": "2021-12-27T18:39:25.929098Z",
     "start_time": "2021-12-27T18:39:25.899559Z"
    },
    "scrolled": true,
    "id": "impossible-maple",
    "outputId": "ca862e25-245f-47c7-bc81-a1ccfe80c6e7",
    "colab": {
     "base_uri": "https://localhost:8080/",
     "height": 215
    }
   },
   "outputs": [
    {
     "output_type": "execute_result",
     "data": {
      "text/html": [
       "\n",
       "  <div id=\"df-d5f397e5-2328-4645-89a4-b519d3433625\">\n",
       "    <div class=\"colab-df-container\">\n",
       "      <div>\n",
       "<style scoped>\n",
       "    .dataframe tbody tr th:only-of-type {\n",
       "        vertical-align: middle;\n",
       "    }\n",
       "\n",
       "    .dataframe tbody tr th {\n",
       "        vertical-align: top;\n",
       "    }\n",
       "\n",
       "    .dataframe thead th {\n",
       "        text-align: right;\n",
       "    }\n",
       "</style>\n",
       "<table border=\"1\" class=\"dataframe\">\n",
       "  <thead>\n",
       "    <tr style=\"text-align: right;\">\n",
       "      <th></th>\n",
       "      <th>title</th>\n",
       "      <th>subtitle</th>\n",
       "    </tr>\n",
       "  </thead>\n",
       "  <tbody>\n",
       "    <tr>\n",
       "      <th>0</th>\n",
       "      <td>Исходный код сайта «Госуслуги» Пензенской обла...</td>\n",
       "      <td>None</td>\n",
       "    </tr>\n",
       "    <tr>\n",
       "      <th>1</th>\n",
       "      <td>«ОВД-Инфо» призвал соцсети не блокировать акка...</td>\n",
       "      <td>None</td>\n",
       "    </tr>\n",
       "    <tr>\n",
       "      <th>2</th>\n",
       "      <td>Алишер Усманов вслед за другими российскими ми...</td>\n",
       "      <td>None</td>\n",
       "    </tr>\n",
       "    <tr>\n",
       "      <th>3</th>\n",
       "      <td>Борис Гребенщиков заявил, что флейтиста «Аквар...</td>\n",
       "      <td>None</td>\n",
       "    </tr>\n",
       "    <tr>\n",
       "      <th>4</th>\n",
       "      <td>Замглавы Минобороны: НАТО готовится к вооружен...</td>\n",
       "      <td>None</td>\n",
       "    </tr>\n",
       "  </tbody>\n",
       "</table>\n",
       "</div>\n",
       "      <button class=\"colab-df-convert\" onclick=\"convertToInteractive('df-d5f397e5-2328-4645-89a4-b519d3433625')\"\n",
       "              title=\"Convert this dataframe to an interactive table.\"\n",
       "              style=\"display:none;\">\n",
       "        \n",
       "  <svg xmlns=\"http://www.w3.org/2000/svg\" height=\"24px\"viewBox=\"0 0 24 24\"\n",
       "       width=\"24px\">\n",
       "    <path d=\"M0 0h24v24H0V0z\" fill=\"none\"/>\n",
       "    <path d=\"M18.56 5.44l.94 2.06.94-2.06 2.06-.94-2.06-.94-.94-2.06-.94 2.06-2.06.94zm-11 1L8.5 8.5l.94-2.06 2.06-.94-2.06-.94L8.5 2.5l-.94 2.06-2.06.94zm10 10l.94 2.06.94-2.06 2.06-.94-2.06-.94-.94-2.06-.94 2.06-2.06.94z\"/><path d=\"M17.41 7.96l-1.37-1.37c-.4-.4-.92-.59-1.43-.59-.52 0-1.04.2-1.43.59L10.3 9.45l-7.72 7.72c-.78.78-.78 2.05 0 2.83L4 21.41c.39.39.9.59 1.41.59.51 0 1.02-.2 1.41-.59l7.78-7.78 2.81-2.81c.8-.78.8-2.07 0-2.86zM5.41 20L4 18.59l7.72-7.72 1.47 1.35L5.41 20z\"/>\n",
       "  </svg>\n",
       "      </button>\n",
       "      \n",
       "  <style>\n",
       "    .colab-df-container {\n",
       "      display:flex;\n",
       "      flex-wrap:wrap;\n",
       "      gap: 12px;\n",
       "    }\n",
       "\n",
       "    .colab-df-convert {\n",
       "      background-color: #E8F0FE;\n",
       "      border: none;\n",
       "      border-radius: 50%;\n",
       "      cursor: pointer;\n",
       "      display: none;\n",
       "      fill: #1967D2;\n",
       "      height: 32px;\n",
       "      padding: 0 0 0 0;\n",
       "      width: 32px;\n",
       "    }\n",
       "\n",
       "    .colab-df-convert:hover {\n",
       "      background-color: #E2EBFA;\n",
       "      box-shadow: 0px 1px 2px rgba(60, 64, 67, 0.3), 0px 1px 3px 1px rgba(60, 64, 67, 0.15);\n",
       "      fill: #174EA6;\n",
       "    }\n",
       "\n",
       "    [theme=dark] .colab-df-convert {\n",
       "      background-color: #3B4455;\n",
       "      fill: #D2E3FC;\n",
       "    }\n",
       "\n",
       "    [theme=dark] .colab-df-convert:hover {\n",
       "      background-color: #434B5C;\n",
       "      box-shadow: 0px 1px 3px 1px rgba(0, 0, 0, 0.15);\n",
       "      filter: drop-shadow(0px 1px 2px rgba(0, 0, 0, 0.3));\n",
       "      fill: #FFFFFF;\n",
       "    }\n",
       "  </style>\n",
       "\n",
       "      <script>\n",
       "        const buttonEl =\n",
       "          document.querySelector('#df-d5f397e5-2328-4645-89a4-b519d3433625 button.colab-df-convert');\n",
       "        buttonEl.style.display =\n",
       "          google.colab.kernel.accessAllowed ? 'block' : 'none';\n",
       "\n",
       "        async function convertToInteractive(key) {\n",
       "          const element = document.querySelector('#df-d5f397e5-2328-4645-89a4-b519d3433625');\n",
       "          const dataTable =\n",
       "            await google.colab.kernel.invokeFunction('convertToInteractive',\n",
       "                                                     [key], {});\n",
       "          if (!dataTable) return;\n",
       "\n",
       "          const docLinkHtml = 'Like what you see? Visit the ' +\n",
       "            '<a target=\"_blank\" href=https://colab.research.google.com/notebooks/data_table.ipynb>data table notebook</a>'\n",
       "            + ' to learn more about interactive tables.';\n",
       "          element.innerHTML = '';\n",
       "          dataTable['output_type'] = 'display_data';\n",
       "          await google.colab.output.renderOutput(dataTable, element);\n",
       "          const docLink = document.createElement('div');\n",
       "          docLink.innerHTML = docLinkHtml;\n",
       "          element.appendChild(docLink);\n",
       "        }\n",
       "      </script>\n",
       "    </div>\n",
       "  </div>\n",
       "  "
      ],
      "text/plain": [
       "                                               title subtitle\n",
       "0  Исходный код сайта «Госуслуги» Пензенской обла...     None\n",
       "1  «ОВД-Инфо» призвал соцсети не блокировать акка...     None\n",
       "2  Алишер Усманов вслед за другими российскими ми...     None\n",
       "3  Борис Гребенщиков заявил, что флейтиста «Аквар...     None\n",
       "4  Замглавы Минобороны: НАТО готовится к вооружен...     None"
      ]
     },
     "metadata": {},
     "execution_count": 9
    }
   ],
   "source": [
    "loaded = pd.read_json(JSON_FILE)\n",
    "loaded.head()"
   ]
  },
  {
   "cell_type": "code",
   "execution_count": null,
   "id": "preceding-gender",
   "metadata": {
    "id": "preceding-gender"
   },
   "outputs": [],
   "source": [
    ""
   ]
  }
 ],
 "metadata": {
  "kernelspec": {
   "display_name": "Python 3",
   "language": "python",
   "name": "python3"
  },
  "language_info": {
   "codemirror_mode": {
    "name": "ipython",
    "version": 3
   },
   "file_extension": ".py",
   "mimetype": "text/x-python",
   "name": "python",
   "nbconvert_exporter": "python",
   "pygments_lexer": "ipython3",
   "version": "3.8.5"
  },
  "toc": {
   "base_numbering": 1,
   "nav_menu": {},
   "number_sections": false,
   "sideBar": true,
   "skip_h1_title": false,
   "title_cell": "Table of Contents",
   "title_sidebar": "Contents",
   "toc_cell": false,
   "toc_position": {},
   "toc_section_display": true,
   "toc_window_display": false
  },
  "colab": {
   "name": "homework_1_valeev.ipynb",
   "provenance": []
  }
 },
 "nbformat": 4,
 "nbformat_minor": 5
}