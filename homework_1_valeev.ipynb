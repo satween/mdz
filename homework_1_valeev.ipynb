{
 "cells": [
  {
   "cell_type": "code",
   "execution_count": 1,
   "id": "shaped-gather",
   "metadata": {
    "ExecuteTime": {
     "end_time": "2021-12-27T18:39:25.298314Z",
     "start_time": "2021-12-27T18:39:25.135233Z"
    }
   },
   "outputs": [],
   "source": [
    "import requests\n",
    "import pandas as pd\n",
    "from bs4 import BeautifulSoup"
   ]
  },
  {
   "cell_type": "code",
   "execution_count": 2,
   "id": "severe-heavy",
   "metadata": {
    "ExecuteTime": {
     "end_time": "2021-12-27T18:39:25.779583Z",
     "start_time": "2021-12-27T18:39:25.299720Z"
    }
   },
   "outputs": [
    {
     "data": {
      "text/plain": [
       "<Response [200]>"
      ]
     },
     "execution_count": 2,
     "metadata": {},
     "output_type": "execute_result"
    }
   ],
   "source": [
    "resp = requests.get('https://meduza.io/')\n",
    "resp"
   ]
  },
  {
   "cell_type": "code",
   "execution_count": 3,
   "id": "occasional-client",
   "metadata": {
    "ExecuteTime": {
     "end_time": "2021-12-27T18:39:25.830755Z",
     "start_time": "2021-12-27T18:39:25.781336Z"
    }
   },
   "outputs": [],
   "source": [
    "soup = BeautifulSoup(resp.text, 'html.parser')\n",
    "#print(soup.prettify())"
   ]
  },
  {
   "cell_type": "code",
   "execution_count": 4,
   "id": "featured-pollution",
   "metadata": {
    "ExecuteTime": {
     "end_time": "2021-12-27T18:39:25.861761Z",
     "start_time": "2021-12-27T18:39:25.831835Z"
    }
   },
   "outputs": [],
   "source": [
    "def first_or_none(elements):\n",
    "    if len(elements):\n",
    "        return elements[0].text\n",
    "    else:\n",
    "        return None\n",
    "\n",
    "\n",
    "data = []\n",
    "containers = soup.find_all(\"div\", {\"class\": \"Feed-container\"})\n",
    "for container in containers:\n",
    "    children = container.findChildren('div', recursive=False)\n",
    "    for child in children:\n",
    "        blocks = child.find_all(\"h2\", {\"class\":\"BlockTitle-root\"})\n",
    "        for block in blocks:\n",
    "            title = first_or_none(block.find_all(\"span\", {\"class\":\"BlockTitle-first\"}))\n",
    "            subtitle = first_or_none(block.find_all(\"span\", {\"class\":\"BlockTitle-second\"}))\n",
    "            if title: \n",
    "                row = {\n",
    "                    'title': title,\n",
    "                    'subtitle': subtitle\n",
    "                }\n",
    "                data.append(row)        "
   ]
  },
  {
   "cell_type": "code",
   "execution_count": 5,
   "id": "rental-passage",
   "metadata": {
    "ExecuteTime": {
     "end_time": "2021-12-27T18:39:25.881054Z",
     "start_time": "2021-12-27T18:39:25.862690Z"
    }
   },
   "outputs": [],
   "source": [
    "JSON_FILE = 'data.json'"
   ]
  },
  {
   "cell_type": "code",
   "execution_count": 6,
   "id": "latin-annual",
   "metadata": {
    "ExecuteTime": {
     "end_time": "2021-12-27T18:39:25.897622Z",
     "start_time": "2021-12-27T18:39:25.882642Z"
    }
   },
   "outputs": [],
   "source": [
    "df = pd.DataFrame.from_dict(data)\n",
    "with open(JSON_FILE, 'w', encoding='utf-8') as file:\n",
    "    df.to_json(file, force_ascii=False)"
   ]
  },
  {
   "cell_type": "code",
   "execution_count": 7,
   "id": "impossible-maple",
   "metadata": {
    "ExecuteTime": {
     "end_time": "2021-12-27T18:39:25.929098Z",
     "start_time": "2021-12-27T18:39:25.899559Z"
    },
    "scrolled": true
   },
   "outputs": [
    {
     "data": {
      "text/html": [
       "<div>\n",
       "<style scoped>\n",
       "    .dataframe tbody tr th:only-of-type {\n",
       "        vertical-align: middle;\n",
       "    }\n",
       "\n",
       "    .dataframe tbody tr th {\n",
       "        vertical-align: top;\n",
       "    }\n",
       "\n",
       "    .dataframe thead th {\n",
       "        text-align: right;\n",
       "    }\n",
       "</style>\n",
       "<table border=\"1\" class=\"dataframe\">\n",
       "  <thead>\n",
       "    <tr style=\"text-align: right;\">\n",
       "      <th></th>\n",
       "      <th>title</th>\n",
       "      <th>subtitle</th>\n",
       "    </tr>\n",
       "  </thead>\n",
       "  <tbody>\n",
       "    <tr>\n",
       "      <th>0</th>\n",
       "      <td>Замглавы Минобороны: НАТО готовится к вооружен...</td>\n",
       "      <td>None</td>\n",
       "    </tr>\n",
       "    <tr>\n",
       "      <th>1</th>\n",
       "      <td>Власти Беларуси показали поправки к Конституци...</td>\n",
       "      <td>None</td>\n",
       "    </tr>\n",
       "    <tr>\n",
       "      <th>2</th>\n",
       "      <td>Умер бывший главный редактор «Спутника и погро...</td>\n",
       "      <td>None</td>\n",
       "    </tr>\n",
       "    <tr>\n",
       "      <th>3</th>\n",
       "      <td>Кремль требует от НАТО гарантий не принимать У...</td>\n",
       "      <td>None</td>\n",
       "    </tr>\n",
       "    <tr>\n",
       "      <th>4</th>\n",
       "      <td>Правозащитники раскритиковали внесенный в Думу...</td>\n",
       "      <td>None</td>\n",
       "    </tr>\n",
       "  </tbody>\n",
       "</table>\n",
       "</div>"
      ],
      "text/plain": [
       "                                               title subtitle\n",
       "0  Замглавы Минобороны: НАТО готовится к вооружен...     None\n",
       "1  Власти Беларуси показали поправки к Конституци...     None\n",
       "2  Умер бывший главный редактор «Спутника и погро...     None\n",
       "3  Кремль требует от НАТО гарантий не принимать У...     None\n",
       "4  Правозащитники раскритиковали внесенный в Думу...     None"
      ]
     },
     "execution_count": 7,
     "metadata": {},
     "output_type": "execute_result"
    }
   ],
   "source": [
    "loaded = pd.read_json(JSON_FILE)\n",
    "loaded.head()"
   ]
  },
  {
   "cell_type": "code",
   "execution_count": null,
   "id": "preceding-gender",
   "metadata": {},
   "outputs": [],
   "source": []
  }
 ],
 "metadata": {
  "kernelspec": {
   "display_name": "Python 3",
   "language": "python",
   "name": "python3"
  },
  "language_info": {
   "codemirror_mode": {
    "name": "ipython",
    "version": 3
   },
   "file_extension": ".py",
   "mimetype": "text/x-python",
   "name": "python",
   "nbconvert_exporter": "python",
   "pygments_lexer": "ipython3",
   "version": "3.8.5"
  },
  "toc": {
   "base_numbering": 1,
   "nav_menu": {},
   "number_sections": false,
   "sideBar": true,
   "skip_h1_title": false,
   "title_cell": "Table of Contents",
   "title_sidebar": "Contents",
   "toc_cell": false,
   "toc_position": {},
   "toc_section_display": true,
   "toc_window_display": false
  }
 },
 "nbformat": 4,
 "nbformat_minor": 5
}
