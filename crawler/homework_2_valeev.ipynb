{
 "cells": [
  {
   "cell_type": "code",
   "execution_count": 1,
   "id": "G66A3t9CDg5X",
   "metadata": {
    "colab": {
     "base_uri": "https://localhost:8080/"
    },
    "id": "G66A3t9CDg5X",
    "outputId": "f4074ef8-25b9-4571-fee2-d012a2b906fa"
   },
   "outputs": [
    {
     "name": "stdout",
     "output_type": "stream",
     "text": [
      "Requirement already satisfied: requests in /usr/local/lib/python3.8/dist-packages (2.27.1)\n",
      "Requirement already satisfied: certifi>=2017.4.17 in /usr/local/lib/python3.8/dist-packages (from requests) (2021.10.8)\n",
      "Requirement already satisfied: urllib3<1.27,>=1.21.1 in /usr/local/lib/python3.8/dist-packages (from requests) (1.26.8)\n",
      "Requirement already satisfied: idna<4,>=2.5 in /usr/local/lib/python3.8/dist-packages (from requests) (3.3)\n",
      "Requirement already satisfied: charset-normalizer~=2.0.0 in /usr/local/lib/python3.8/dist-packages (from requests) (2.0.11)\n",
      "\u001b[33mWARNING: Running pip as the 'root' user can result in broken permissions and conflicting behaviour with the system package manager. It is recommended to use a virtual environment instead: https://pip.pypa.io/warnings/venv\u001b[0m\u001b[33m\n",
      "\u001b[0mRequirement already satisfied: pandas in /usr/local/lib/python3.8/dist-packages (1.4.0)\n",
      "Requirement already satisfied: python-dateutil>=2.8.1 in /usr/local/lib/python3.8/dist-packages (from pandas) (2.8.2)\n",
      "Requirement already satisfied: pytz>=2020.1 in /usr/local/lib/python3.8/dist-packages (from pandas) (2021.3)\n",
      "Requirement already satisfied: numpy>=1.18.5 in /usr/local/lib/python3.8/dist-packages (from pandas) (1.22.1)\n",
      "Requirement already satisfied: six>=1.5 in /usr/local/lib/python3.8/dist-packages (from python-dateutil>=2.8.1->pandas) (1.16.0)\n",
      "\u001b[33mWARNING: Running pip as the 'root' user can result in broken permissions and conflicting behaviour with the system package manager. It is recommended to use a virtual environment instead: https://pip.pypa.io/warnings/venv\u001b[0m\u001b[33m\n",
      "\u001b[0mRequirement already satisfied: beautifulsoup4 in /usr/local/lib/python3.8/dist-packages (4.10.0)\n",
      "Requirement already satisfied: soupsieve>1.2 in /usr/local/lib/python3.8/dist-packages (from beautifulsoup4) (2.3.1)\n",
      "\u001b[33mWARNING: Running pip as the 'root' user can result in broken permissions and conflicting behaviour with the system package manager. It is recommended to use a virtual environment instead: https://pip.pypa.io/warnings/venv\u001b[0m\u001b[33m\n",
      "\u001b[0mRequirement already satisfied: mysql-connector-python in /usr/local/lib/python3.8/dist-packages (8.0.28)\n",
      "Requirement already satisfied: protobuf>=3.0.0 in /usr/local/lib/python3.8/dist-packages (from mysql-connector-python) (3.19.4)\n",
      "\u001b[33mWARNING: Running pip as the 'root' user can result in broken permissions and conflicting behaviour with the system package manager. It is recommended to use a virtual environment instead: https://pip.pypa.io/warnings/venv\u001b[0m\u001b[33m\n",
      "\u001b[0mRequirement already satisfied: SQLAlchemy in /usr/local/lib/python3.8/dist-packages (1.4.31)\n",
      "Requirement already satisfied: greenlet!=0.4.17 in /usr/local/lib/python3.8/dist-packages (from SQLAlchemy) (1.1.2)\n",
      "\u001b[33mWARNING: Running pip as the 'root' user can result in broken permissions and conflicting behaviour with the system package manager. It is recommended to use a virtual environment instead: https://pip.pypa.io/warnings/venv\u001b[0m\u001b[33m\n",
      "\u001b[0m"
     ]
    }
   ],
   "source": [
    "!pip install requests\n",
    "!pip install pandas\n",
    "!pip install beautifulsoup4\n",
    "!pip install mysql-connector-python\n",
    "!pip install SQLAlchemy"
   ]
  },
  {
   "cell_type": "code",
   "execution_count": 2,
   "id": "shaped-gather",
   "metadata": {
    "ExecuteTime": {
     "end_time": "2021-12-27T18:39:25.298314Z",
     "start_time": "2021-12-27T18:39:25.135233Z"
    },
    "id": "shaped-gather"
   },
   "outputs": [],
   "source": [
    "import requests\n",
    "import pandas as pd\n",
    "from bs4 import BeautifulSoup"
   ]
  },
  {
   "cell_type": "code",
   "execution_count": 3,
   "id": "severe-heavy",
   "metadata": {
    "ExecuteTime": {
     "end_time": "2021-12-27T18:39:25.779583Z",
     "start_time": "2021-12-27T18:39:25.299720Z"
    },
    "colab": {
     "base_uri": "https://localhost:8080/"
    },
    "id": "severe-heavy",
    "outputId": "f50c2701-e2d5-47da-bbaf-bb90d1c660dd"
   },
   "outputs": [
    {
     "data": {
      "text/plain": [
       "<Response [200]>"
      ]
     },
     "execution_count": 3,
     "metadata": {},
     "output_type": "execute_result"
    }
   ],
   "source": [
    "resp = requests.get('https://meduza.io/')\n",
    "resp"
   ]
  },
  {
   "cell_type": "code",
   "execution_count": 4,
   "id": "occasional-client",
   "metadata": {
    "ExecuteTime": {
     "end_time": "2021-12-27T18:39:25.830755Z",
     "start_time": "2021-12-27T18:39:25.781336Z"
    },
    "id": "occasional-client"
   },
   "outputs": [],
   "source": [
    "soup = BeautifulSoup(resp.text, 'html.parser')"
   ]
  },
  {
   "cell_type": "code",
   "execution_count": 5,
   "id": "featured-pollution",
   "metadata": {
    "ExecuteTime": {
     "end_time": "2021-12-27T18:39:25.861761Z",
     "start_time": "2021-12-27T18:39:25.831835Z"
    },
    "id": "featured-pollution"
   },
   "outputs": [],
   "source": [
    "def first_or_none(elements):\n",
    "    if len(elements):\n",
    "        return elements[0].text\n",
    "    else:\n",
    "        return None\n",
    "\n",
    "\n",
    "data = []\n",
    "containers = soup.find_all(\"div\", {\"class\": \"Feed-container\"})\n",
    "for container in containers:\n",
    "    children = container.findChildren('div', recursive=False)\n",
    "    for child in children:\n",
    "        blocks = child.find_all(\"h2\", {\"class\":\"BlockTitle-root\"})\n",
    "        for block in blocks:\n",
    "            title = first_or_none(block.find_all(\"span\", {\"class\":\"BlockTitle-first\"}))\n",
    "            subtitle = first_or_none(block.find_all(\"span\", {\"class\":\"BlockTitle-second\"}))\n",
    "            if title: \n",
    "                row = {\n",
    "                    'title': title,\n",
    "                    'subtitle': subtitle\n",
    "                }\n",
    "                data.append(row)        "
   ]
  },
  {
   "cell_type": "code",
   "execution_count": 6,
   "id": "latin-annual",
   "metadata": {
    "ExecuteTime": {
     "end_time": "2021-12-27T18:39:25.897622Z",
     "start_time": "2021-12-27T18:39:25.882642Z"
    },
    "id": "latin-annual"
   },
   "outputs": [],
   "source": [
    "df = pd.DataFrame.from_dict(data)"
   ]
  },
  {
   "cell_type": "markdown",
   "id": "2250625e",
   "metadata": {},
   "source": [
    "Saving data to database"
   ]
  },
  {
   "cell_type": "code",
   "execution_count": 7,
   "id": "730e0ebd",
   "metadata": {},
   "outputs": [
    {
     "data": {
      "text/plain": [
       "36"
      ]
     },
     "execution_count": 7,
     "metadata": {},
     "output_type": "execute_result"
    }
   ],
   "source": [
    "from sqlalchemy import create_engine, event\n",
    "DATABSE_URI='mysql+mysqlconnector://{user}:{password}@{server}/{database}'.format(user='user', password='password', server='db:3306', database='test_db')\n",
    "engine = create_engine(\n",
    "                DATABSE_URI\n",
    "            )\n",
    "df.to_sql(con=engine, name='data', if_exists='replace')"
   ]
  },
  {
   "cell_type": "markdown",
   "id": "623a08c0",
   "metadata": {},
   "source": [
    "Selecting data from database:"
   ]
  },
  {
   "cell_type": "code",
   "execution_count": 8,
   "id": "preceding-gender",
   "metadata": {
    "id": "preceding-gender"
   },
   "outputs": [
    {
     "name": "stdout",
     "output_type": "stream",
     "text": [
      "(0, 'Полиция Украины задержала подозреваемых в\\xa0подготовке беспорядков. Их\\xa0собирались устроить в\\xa0Киеве и\\xa0регионах, расположенных в\\xa0часе езды от\\xa0России', None)\n",
      "(1, 'В России новый суточный рекорд заражений ковидом\\xa0— 124\\u202f070 случаев. В\\xa0Москве вводят дополнительные койки в\\xa0детских стационарах', None)\n",
      "(2, 'Danone предупредила о\\xa0росте цен на\\xa0свою продукцию в\\xa0России на\\xa010%', None)\n",
      "(3, '«Мемориал» обжаловал решение Верховного суда РФ\\xa0о\\xa0ликвидации', None)\n",
      "(4, 'В Подмосковье военнослужащий «непроизвольным выстрелом» убил сослуживца', None)\n",
      "(5, '«Коммерсант»: МВД осталось недовольно работой серверов на\\xa0отечественных процессорах «Эльбрус»', None)\n",
      "(6, 'Spotify поменял правила модерации из-за бойкота Нила Янга и\\xa0Джони Митчелл', 'Сервис запретил отрицать коронавирус и\\xa0призывать к\\xa0участию в\\xa0ковид-вечеринках')\n",
      "(7, 'Вышел трейлер долгожданного сериала по\\xa0Halo', 'В нем мастер Чиф дерется с\\xa0инопланетянами\\xa0(не\\xa0может быть!)')\n",
      "(8, 'Бывшего волонтера штаба Навального обвинили в\\xa0призывах к\\xa0терроризму. Из-за комментариев в\\xa0чате телеграм-канала Znak.com ему грозит до\\xa0десяти лет тюрьмы', None)\n",
      "(9, 'В Москве начали проверку законности возведения 600 апартаментов', None)\n",
      "(10, 'Умер сценарист и\\xa0режиссер Виктор Мережко', None)\n",
      "(11, 'Институт гражданства устарел', 'Максим Трудолюбов показывает это на\\xa0примере действий российских властей (и\\xa0не\\xa0только их)\\xa0— и\\xa0цитирует Некрасова и\\xa0Евтушенко')\n",
      "(12, 'Такой парень', 'Умер Леонид Куравлев. Антон Долин вспоминает актера, ставшего культурным достоянием страны')\n",
      "(13, 'КНДР запустила баллистическую ракету на\\xa0рекордное за\\xa0пять лет расстояние. Она превысила скорость звука в\\xa016 раз', None)\n",
      "(14, 'Сколько на\\xa0самом деле бедных в\\xa0России? Этой статистикой манипулируют? Может\\xa0ли бедность привести к\\xa0политической апатии или, наоборот, к\\xa0социальному взрыву?', 'Интервью экономиста Евгения Гонтмахера')\n",
      "(15, 'Как понять, что служба поддержки трудится не\\xa0зря? Максимально короткий список требований', None)\n",
      "(16, 'Даниил Медведев уступил Рафаэлю Надалю в\\xa0финале Australian Open', None)\n",
      "(17, '«Он\\xa0десятилетиями высасывал жизнь из\\xa0молодых девушек»', 'Что мы\\xa0узнали из\\xa0первых эпизодов «Секретов Playboy»\\xa0— документального сериала о\\xa0«темной стороне» империи Хью Хефнера')\n",
      "(18, 'Конфликт между противниками порнографии и\\xa0порномагнатами обостряется. В\\xa0поджоге особняка владельца Pornhub подозревают религиозных активистов и\\xa0мафию', None)\n",
      "(19, 'Зачем бизнесу Big Data? Максимально коротко', None)\n",
      "(20, 'Исследование «Медузы» доказало: российская вакцина «ЭпиВакКорона» бесполезна при ковиде. Рассказывает научный редактор Александр Ершов', None)\n",
      "(21, 'Влади против пыток, «Диктофон» в\\xa0Крыму и\\xa0The Beatles на\\xa0крыше', '«Медуза» выбрала 10 лучших песен и\\xa0клипов недели')\n",
      "(22, 'В Петербурге судья, прокурор и\\xa0конвой не\\xa0смогли попасть в\\xa0здание суда. Потому что выпал снег', None)\n",
      "(23, 'Самолет «Байкал», преемник «кукурузника» Ан-2, совершил первый полет', None)\n",
      "(24, 'МИД Великобритании допустил любые санкции против России в\\xa0случае вторжения в\\xa0Украину. В\\xa0том числе арест недвижимости российских олигархов', None)\n",
      "(25, 'В Белом доме впервые с\\xa02009 года поселилась «первая кошка США». Знакомьтесь\\xa0— грациозная Уиллоу, которая раньше жила на\\xa0ферме, а\\xa0потом решила все изменить', None)\n",
      "(26, '«Появилось ощущение, что я\\xa0прокляла себя этой татуировкой»', 'Рассказываем о\\xa0тех, кто сделал тату и\\xa0пожалел об\\xa0этом. И\\xa0собираем ваши истории')\n",
      "(27, 'В Нижнем Новгороде на\\xa0двери дома 84-летней матери главы «Комитета против пыток» Игоря Каляпина повесили плакат, что ее\\xa0сын «защищает террористов»', None)\n",
      "(28, '50 лет назад в\\xa0Северной Ирландии случилось «Кровавое воскресенье»', 'Британские военные расстреляли участников демонстрации, 14 человек погибли. Вот как это было')\n",
      "(29, 'В России десятый день подряд зарегистрировали максимальный прирост заболевших COVID-19\\xa0— 121\\u202f228 человек за\\xa0сутки', None)\n",
      "(30, 'The Washington Post: секретные материалы украинской разведки вывезли из\\xa0Киева', None)\n",
      "(31, 'Канцелярия президента Чехии случайно уничтожила секретный документ о\\xa0взрывах в\\xa0Врбетице, в\\xa0которых обвиняют ГРУ России', None)\n",
      "(32, 'В США из\\xa0тюрьмы вышел мужчина, отсидевший 19 лет за\\xa0убийство, которого не\\xa0совершал. В\\xa0преступлении признался его брат-близнец', None)\n",
      "(33, 'Тропический шторм «Ана» вызвал разрушения на\\xa0восточном побережье Африки. Десятки людей погибли, сотни тысяч были вынуждены покинуть свои дома', 'Фотографии из\\xa0Малави, Мозамбика и\\xa0Мадагаскара')\n",
      "(34, 'Российские ученые успешно вживили чип в\\xa0зрительную кору мозга обезьяны. Эта технология может помочь незрячим людям различать предметы', None)\n",
      "(35, 'Какие выставки, ярмарки и\\xa0фестивали, посвященные дизайну, пройдут в\\xa02022-м', 'Полный календарь на\\xa0год')\n"
     ]
    }
   ],
   "source": [
    "conn = engine.connect()\n",
    "with conn:\n",
    "    result = conn.execute(\"SELECT * FROM data;\")\n",
    "    for x in result:\n",
    "        print(x)"
   ]
  },
  {
   "cell_type": "code",
   "execution_count": null,
   "id": "9bb2d487",
   "metadata": {},
   "outputs": [],
   "source": []
  }
 ],
 "metadata": {
  "colab": {
   "name": "homework_1_valeev.ipynb",
   "provenance": []
  },
  "kernelspec": {
   "display_name": "Python 3 (ipykernel)",
   "language": "python",
   "name": "python3"
  },
  "language_info": {
   "codemirror_mode": {
    "name": "ipython",
    "version": 3
   },
   "file_extension": ".py",
   "mimetype": "text/x-python",
   "name": "python",
   "nbconvert_exporter": "python",
   "pygments_lexer": "ipython3",
   "version": "3.8.10"
  },
  "toc": {
   "base_numbering": 1,
   "nav_menu": {},
   "number_sections": false,
   "sideBar": true,
   "skip_h1_title": false,
   "title_cell": "Table of Contents",
   "title_sidebar": "Contents",
   "toc_cell": false,
   "toc_position": {},
   "toc_section_display": true,
   "toc_window_display": false
  }
 },
 "nbformat": 4,
 "nbformat_minor": 5
}
